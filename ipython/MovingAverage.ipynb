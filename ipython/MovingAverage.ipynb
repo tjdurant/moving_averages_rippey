{
 "cells": [
  {
   "cell_type": "code",
   "execution_count": 1,
   "metadata": {
    "collapsed": false
   },
   "outputs": [],
   "source": [
    "from __future__ import division\n",
    "\n",
    "import os\n",
    "import numpy as np\n",
    "import pandas as pd\n",
    "import datetime\n",
    "\n",
    "import matplotlib.mlab as mlab\n",
    "import matplotlib.pyplot as plt\n",
    "%matplotlib inline\n",
    "\n",
    "# Experiment parameters\n",
    "MA_TYPE = 'SMA'\n",
    "COMPONENT = 'Chloride'\n",
    "METHOD = 'RS1'\n",
    "QC_RULES = ['13s','22s']\n",
    "\n",
    "URefL = 106\n",
    "LRefL = 99\n",
    "UTL = 104\n",
    "LTL =99\n",
    "WINDOW = 50 \n"
   ]
  },
  {
   "cell_type": "code",
   "execution_count": 172,
   "metadata": {
    "collapsed": false
   },
   "outputs": [],
   "source": [
    "def df_to_series(df, method, qc=False, flags=False):\n",
    "    \n",
    "    if qc == False:\n",
    "        # get the requested test and method and create a new DF\n",
    "        df_ = df.loc[(df.Test != 'QC') & (df.Method == method)]\n",
    "        test = 'val'\n",
    "    else:\n",
    "        df_ = df.loc[(df.Test == 'QC') & (df.Method == method)]\n",
    "        test = 'qc'\n",
    "        \n",
    "    if flags == False:\n",
    "        # take just the data and the value columns\n",
    "        df_ = df_[['Resulted','Value']]\n",
    "    else:\n",
    "        df_ = df_[['Resulted','inOutQC']]\n",
    "        \n",
    "    # save to csv\n",
    "    df_.to_csv('tmp.csv'.format(test, method), index=False)\n",
    "\n",
    "    # read csv back in as a series\n",
    "    series = pd.Series.from_csv('tmp.csv'.format(test, method),header=0)\n",
    "    \n",
    "    return series\n",
    "\n",
    "\n",
    "def simple_moving_average(Window, ValTimeSeries):\n",
    "    \"\"\"\n",
    "    Create a simple moving averages TimeSeries\n",
    "    In: \n",
    "    -> Moving averages window\n",
    "    -> TimeSeries of values\n",
    "    Out: TimeSeries of MovingAverages for each of the supplied TimeStamps\n",
    "    \"\"\"\n",
    "    \n",
    "    ma_rs1_series = ValTimeSeries.copy(deep=True)\n",
    "    for i in range(len(ValTimeSeries)):\n",
    "        if i == 0:\n",
    "            continue\n",
    "        elif i < Window:\n",
    "            ma_rs1_series[i] = ValTimeSeries[:i].mean()\n",
    "        else:\n",
    "            start = i - Window\n",
    "            ma_rs1_series[i] = ValTimeSeries[start:i].mean()\n",
    "\n",
    "    return ma_rs1_series\n",
    "\n",
    "\n",
    "def moving_average_flags(MaTimeSeries, UTL, LTL):\n",
    "    \"\"\"\n",
    "    Create a time series of moving average flags:\n",
    "    1 = \"Out\"\n",
    "    0 = \"In\"\n",
    "    \n",
    "    In: TimeSeries of moving average values\n",
    "    Out: TimeSeries of 0 or 1 digits representing in and out respectively. \n",
    "    \"\"\"\n",
    "    \n",
    "    ma_flag_series = MaTimeSeries.copy(deep=True)\n",
    "    for i in range(len(MaTimeSeries)):\n",
    "\n",
    "        if MaTimeSeries[i] <= UTL:\n",
    "            # in = 0\n",
    "            ma_flag_series[i] = 0\n",
    "        else: \n",
    "            # out = 1\n",
    "            ma_flag_series[i] = 1\n",
    "    return ma_flag_series\n",
    "\n",
    "\n",
    "def moving_avg_performance_metrics(ma_perf_model, moving_avg_flag_series, qc_flag_series):\n",
    "    \"\"\"\n",
    "    Takes flags from Moving Averages and QC and compares to get performance metrics\n",
    "    \n",
    "    Input: MA and QC flag timeseries'\n",
    "    Output: Class object of: TP, FP, TN, FN, Precision, Recall\n",
    "    \"\"\"\n",
    "\n",
    "    raw_perf_data = RawPerformanceModel()\n",
    "    raw_perf_data.true_positive = 0\n",
    "    raw_perf_data.false_positive = 0\n",
    "    raw_perf_data.true_negative = 0\n",
    "    raw_perf_data.false_negative = 0\n",
    "\n",
    "    # TODO: Need to seperate logic for high and low MA flags\n",
    "    for i in range(len(moving_avg_flag_series)):\n",
    "\n",
    "        # instantiate ma flag timestamps\n",
    "        raw_perf_data.ma_flag_ts = moving_avg_flag_series.index[i]\n",
    "        \n",
    "        # Check MovingAverage \"In\" flags relative to QC\n",
    "        # i.e. True Negatives and False Negatives\n",
    "        if moving_avg_flag_series[i] == 0:\n",
    "            startQcLookup = moving_avg_flag_series.index[i]\n",
    "            for qc in qc_flag_series[startQcLookup:]:\n",
    "                \n",
    "                raw_perf_data.qc_flag_ts = qc_flag_series[startQcLookup:].index[0]\n",
    "                \n",
    "                if qc == 0:\n",
    "                    # 'True Negative'\n",
    "                    raw_perf_data.true_negative+=1\n",
    "                else:\n",
    "                    # ma_flag = 0 & qc_flag = 1\n",
    "                    # 'False Negative'\n",
    "                    raw_perf_data.false_negative+=1\n",
    "\n",
    "        # Check MovingAverage \"Out\" flags relative to QC\n",
    "        # i.e. True Positives and False Positives\n",
    "        else:\n",
    "            startQcLookup = moving_avg_flag_series.index[i]\n",
    "            for qc in qc_flag_series[startQcLookup:]:\n",
    "                \n",
    "                # add QC_Flag TimeStamp to MovingAvgPerformanceMetrics\n",
    "                raw_perf_data.qc_flag_ts = qc_flag_series[startQcLookup:].index[0]\n",
    "                \n",
    "                if qc == 1:\n",
    "                    # 'True Positive'\n",
    "                    raw_perf_data.true_positive+=1\n",
    "                else:\n",
    "                    # ma_flag = 0 & qc_flag = 1\n",
    "                    # 'False Positive'\n",
    "                    raw_perf_data.false_positive+=1\n",
    "                break\n",
    "\n",
    "    # Calculate difference in time between QC flag and MA flag\n",
    "    raw_perf_data.ma_qc_diff_secs = raw_perf_data.calculate_timestamp_diff()\n",
    "    raw_perf_data.recall = raw_perf_data.calculate_recall()\n",
    "    raw_perf_data.precision = raw_perf_data.calculate_precision()\n",
    "    \n",
    "    return raw_perf_data\n",
    "\n",
    "def set_ma_experiment(ma_type, component, method, ma_window, qc_rules):\n",
    "    \n",
    "    ma = MovingAvgPerformanceModel()\n",
    "    \n",
    "    ma.component = component\n",
    "    ma.chem_method = method\n",
    "    ma.ma_type = ma_type\n",
    "    ma.qc_rules = qc_rules\n",
    "    \n",
    "    return ma"
   ]
  },
  {
   "cell_type": "code",
   "execution_count": 3,
   "metadata": {
    "collapsed": true
   },
   "outputs": [],
   "source": [
    "WORK_DIR = 'C:\\\\Users\\\\thoma\\\\Box Sync\\\\00Professional\\\\01Research\\\\01_Projects\\\\moving_average\\\\'\n",
    "DATA_DIR = WORK_DIR + 'data\\\\'\n",
    "OUT_DIR = WORK_DIR + 'out\\\\'\n",
    "\n",
    "CSV_PATH = DATA_DIR + 'ChlorideRS1_RS2.csv'"
   ]
  },
  {
   "cell_type": "code",
   "execution_count": 4,
   "metadata": {
    "collapsed": false
   },
   "outputs": [],
   "source": [
    "parse_dates = ['Resulted', 'Verified']\n",
    "df = pd.read_csv(CSV_PATH, parse_dates=parse_dates)"
   ]
  },
  {
   "cell_type": "code",
   "execution_count": 5,
   "metadata": {
    "collapsed": false
   },
   "outputs": [],
   "source": [
    "df = df.sort_values(by='Verified')\n",
    "rs1_val_series = df_to_series(df,'RS1', qc=False, flags=False)\n",
    "rs1_qc_series = df_to_series(df,'RS1', qc=True, flags=False)\n",
    "low_rs1_qc_series = rs1_qc_series[rs1_qc_series <= 95]\n",
    "high_rs1_qc_series = rs1_qc_series[rs1_qc_series >= 95]\n",
    "qc_flags = df_to_series(df,'RS1', qc=True, flags=True)\n",
    "\n",
    "norm_rs1_val_series = rs1_val_series[(rs1_val_series <= URefL) & (rs1_val_series >= LRefL)]\n",
    "ma_rs1_series = simple_moving_average(WINDOW, norm_rs1_val_series)\n",
    "\n",
    "\n",
    "ma_flags = moving_average_flags(ma_rs1_series, 103.2, 99)"
   ]
  },
  {
   "cell_type": "code",
   "execution_count": 173,
   "metadata": {
    "collapsed": true
   },
   "outputs": [],
   "source": [
    "class MovingAvgPerformanceModel:\n",
    "    \n",
    "    def __init__(self):\n",
    "\n",
    "        self.component = str()\n",
    "        self.chem_method = str()\n",
    "        self.ma_type = str()\n",
    "        self.qc_rules = list()\n",
    "        self.exp_data = []\n",
    "            \n",
    "    # dumps Result object in json\n",
    "    def tojson(self):\n",
    "        return json.dumps(self, default=lambda o: o.__dict__,\n",
    "                          sort_keys=False, indent=4)\n",
    "    \n",
    "class RawPerformanceModel:\n",
    "\n",
    "    def __init__(self):\n",
    "\n",
    "        # Ma/QC Parameters\n",
    "        self.ma_utl = int()\n",
    "        self.ma_ltl = int()\n",
    "        self.ma_url = int()\n",
    "        self.ma_lrl = int()\n",
    "        self.ma_window = int()\n",
    "\n",
    "        # Performance metrics\n",
    "        self.true_positive = int()\n",
    "        self.true_negative = int()\n",
    "        self.false_positive = int()\n",
    "        self.false_negative = int()\n",
    "        self.precision = float()\n",
    "        self.recall = float()\n",
    "\n",
    "        # datetime(\"%Y-%m-%d %H:%M:%S\")\n",
    "        # 2017-01-15 00:15:00\n",
    "        self.ma_flag_ts = str()\n",
    "        self.qc_flag_ts = str()\n",
    "        self.ma_qc_diff_secs = str()\n",
    "\n",
    "    def calculate_timestamp_diff(self):\n",
    "        return (self.qc_flag_ts - self.ma_flag_ts).seconds     \n",
    "\n",
    "    def calculate_recall(self):\n",
    "        return (self.true_positive / (self.true_positive + self.false_negative))\n",
    "\n",
    "    def calculate_precision(self):\n",
    "        return (self.true_positive / (self.true_positive + self.false_positive))\n",
    "    "
   ]
  },
  {
   "cell_type": "code",
   "execution_count": 53,
   "metadata": {
    "collapsed": true
   },
   "outputs": [],
   "source": []
  },
  {
   "cell_type": "code",
   "execution_count": 174,
   "metadata": {
    "collapsed": false
   },
   "outputs": [],
   "source": [
    "ExperimentObject = set_ma_experiment(ma_type=MA_TYPE,\n",
    "                                        component=COMPONENT,\n",
    "                                        method=METHOD,\n",
    "                                        ma_window=WINDOW,\n",
    "                                        qc_rules=QC_RULES)"
   ]
  },
  {
   "cell_type": "code",
   "execution_count": 177,
   "metadata": {
    "collapsed": false,
    "scrolled": true
   },
   "outputs": [
    {
     "name": "stdout",
     "output_type": "stream",
     "text": [
      "{'qc_rules': ['13s', '22s'], 'exp_data': [<__main__.RawPerformanceModel instance at 0x0000000007E170C8>, <__main__.RawPerformanceModel instance at 0x0000000007EE7F08>], 'chem_method': 'RS1', 'component': 'Chloride', 'ma_type': 'SMA'}\n"
     ]
    }
   ],
   "source": [
    "ExperimentObject.exp_data.append(moving_avg_performance_metrics(ma_perf_model=ExperimentObject,\n",
    "                                                                     moving_avg_flag_series=ma_flags,\n",
    "                                                                     qc_flag_series=qc_flags))\n",
    "print ExperimentObject.__dict__"
   ]
  },
  {
   "cell_type": "code",
   "execution_count": 178,
   "metadata": {
    "collapsed": false
   },
   "outputs": [
    {
     "name": "stdout",
     "output_type": "stream",
     "text": [
      "{'false_positive': 8, 'qc_flag_ts': Timestamp('2017-01-28 21:55:00'), 'ma_url': 0, 'recall': 0.0035211267605633804, 'ma_qc_diff_secs': 77820L, 'ma_lrl': 0, 'ma_utl': 0, 'precision': 0.3333333333333333, 'true_positive': 4, 'ma_window': 0, 'ma_ltl': 0, 'true_negative': 162918, 'ma_flag_ts': Timestamp('2017-01-29 00:18:00'), 'false_negative': 1132}\n",
      "{'false_positive': 8, 'qc_flag_ts': Timestamp('2017-01-28 21:55:00'), 'ma_url': 0, 'recall': 0.0035211267605633804, 'ma_qc_diff_secs': 77820L, 'ma_lrl': 0, 'ma_utl': 0, 'precision': 0.3333333333333333, 'true_positive': 4, 'ma_window': 0, 'ma_ltl': 0, 'true_negative': 162918, 'ma_flag_ts': Timestamp('2017-01-29 00:18:00'), 'false_negative': 1132}\n"
     ]
    }
   ],
   "source": [
    "for i in enumerate(ExperimentObject.exp_data):\n",
    "    print i[1].__dict__"
   ]
  },
  {
   "cell_type": "code",
   "execution_count": 191,
   "metadata": {
    "collapsed": false
   },
   "outputs": [],
   "source": [
    "import json\n",
    "ExperimentObject_json = ExperimentObject.tojson()\n",
    "ExperimentObject_dict = json.loads(ExperimentObject_json)"
   ]
  },
  {
   "cell_type": "code",
   "execution_count": 192,
   "metadata": {
    "collapsed": false
   },
   "outputs": [
    {
     "data": {
      "text/plain": [
       "[{u'false_negative': 1132,\n",
       "  u'false_positive': 8,\n",
       "  u'ma_flag_ts': {},\n",
       "  u'ma_lrl': 0,\n",
       "  u'ma_ltl': 0,\n",
       "  u'ma_qc_diff_secs': 77820,\n",
       "  u'ma_url': 0,\n",
       "  u'ma_utl': 0,\n",
       "  u'ma_window': 0,\n",
       "  u'precision': 0.3333333333333333,\n",
       "  u'qc_flag_ts': {},\n",
       "  u'recall': 0.0035211267605633804,\n",
       "  u'true_negative': 162918,\n",
       "  u'true_positive': 4},\n",
       " {u'false_negative': 1132,\n",
       "  u'false_positive': 8,\n",
       "  u'ma_flag_ts': {},\n",
       "  u'ma_lrl': 0,\n",
       "  u'ma_ltl': 0,\n",
       "  u'ma_qc_diff_secs': 77820,\n",
       "  u'ma_url': 0,\n",
       "  u'ma_utl': 0,\n",
       "  u'ma_window': 0,\n",
       "  u'precision': 0.3333333333333333,\n",
       "  u'qc_flag_ts': {},\n",
       "  u'recall': 0.0035211267605633804,\n",
       "  u'true_negative': 162918,\n",
       "  u'true_positive': 4}]"
      ]
     },
     "execution_count": 192,
     "metadata": {},
     "output_type": "execute_result"
    }
   ],
   "source": [
    "ExperimentObject_dict['exp_data']"
   ]
  },
  {
   "cell_type": "code",
   "execution_count": 194,
   "metadata": {
    "collapsed": true
   },
   "outputs": [],
   "source": [
    "csv.DictWriter?"
   ]
  },
  {
   "cell_type": "code",
   "execution_count": 193,
   "metadata": {
    "collapsed": false
   },
   "outputs": [
    {
     "ename": "TypeError",
     "evalue": "__init__() takes at least 3 arguments (2 given)",
     "output_type": "error",
     "traceback": [
      "\u001b[1;31m---------------------------------------------------------------------------\u001b[0m",
      "\u001b[1;31mTypeError\u001b[0m                                 Traceback (most recent call last)",
      "\u001b[1;32m<ipython-input-193-b4622db9e01e>\u001b[0m in \u001b[0;36m<module>\u001b[1;34m()\u001b[0m\n\u001b[0;32m      1\u001b[0m \u001b[1;32mimport\u001b[0m \u001b[0mcsv\u001b[0m\u001b[1;33m\u001b[0m\u001b[0m\n\u001b[0;32m      2\u001b[0m \u001b[0mf\u001b[0m \u001b[1;33m=\u001b[0m \u001b[0mopen\u001b[0m\u001b[1;33m(\u001b[0m\u001b[1;34m'output.csv'\u001b[0m\u001b[1;33m,\u001b[0m\u001b[1;34m'wb'\u001b[0m\u001b[1;33m)\u001b[0m\u001b[1;33m\u001b[0m\u001b[0m\n\u001b[1;32m----> 3\u001b[1;33m \u001b[0mw\u001b[0m \u001b[1;33m=\u001b[0m \u001b[0mcsv\u001b[0m\u001b[1;33m.\u001b[0m\u001b[0mDictWriter\u001b[0m\u001b[1;33m(\u001b[0m\u001b[0mf\u001b[0m\u001b[1;33m)\u001b[0m\u001b[1;33m\u001b[0m\u001b[0m\n\u001b[0m\u001b[0;32m      4\u001b[0m \u001b[0mw\u001b[0m\u001b[1;33m.\u001b[0m\u001b[0mwriterows\u001b[0m\u001b[1;33m(\u001b[0m\u001b[0mExperimentObject_dict\u001b[0m\u001b[1;33m[\u001b[0m\u001b[1;34m'exp_data'\u001b[0m\u001b[1;33m]\u001b[0m\u001b[1;33m)\u001b[0m\u001b[1;33m\u001b[0m\u001b[0m\n",
      "\u001b[1;31mTypeError\u001b[0m: __init__() takes at least 3 arguments (2 given)"
     ]
    }
   ],
   "source": [
    "import csv\n",
    "f = open('output.csv','wb')\n",
    "w = csv.DictWriter(f)\n",
    "w.writerows(ExperimentObject_dict['exp_data'])\n"
   ]
  },
  {
   "cell_type": "code",
   "execution_count": null,
   "metadata": {
    "collapsed": true
   },
   "outputs": [],
   "source": []
  }
 ],
 "metadata": {
  "kernelspec": {
   "display_name": "Python 2",
   "language": "python",
   "name": "python2"
  },
  "language_info": {
   "codemirror_mode": {
    "name": "ipython",
    "version": 2
   },
   "file_extension": ".py",
   "mimetype": "text/x-python",
   "name": "python",
   "nbconvert_exporter": "python",
   "pygments_lexer": "ipython2",
   "version": "2.7.13"
  }
 },
 "nbformat": 4,
 "nbformat_minor": 2
}

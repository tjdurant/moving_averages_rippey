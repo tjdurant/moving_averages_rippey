{
 "cells": [
  {
   "cell_type": "code",
   "execution_count": 1,
   "metadata": {
    "collapsed": false
   },
   "outputs": [],
   "source": [
    "import os\n",
    "import numpy as np\n",
    "import pandas as pd\n",
    "from __future__ import division\n",
    "\n",
    "import matplotlib.mlab as mlab\n",
    "import matplotlib.pyplot as plt\n",
    "%matplotlib inline\n",
    "\n",
    "URefL = 106\n",
    "LRefL = 99\n",
    "UTL = 104\n",
    "LTL =99\n",
    "WINDOW = 50 "
   ]
  },
  {
   "cell_type": "code",
   "execution_count": 2,
   "metadata": {
    "collapsed": false
   },
   "outputs": [],
   "source": [
    "class MovingAvgPerformanceMetrics:\n",
    "    \n",
    "    def __init__(self):\n",
    "        self.true_positive = int()\n",
    "        self.true_negative = int()\n",
    "        self.false_positive = int()\n",
    "        self.false_negative = int()\n",
    "        \n",
    "        self.precision = float()\n",
    "        self.recall = float()\n",
    "\n",
    "\n",
    "def df_to_series(df, method, qc=False, flags=False):\n",
    "    \n",
    "    if qc == False:\n",
    "        # get the requested test and method and create a new DF\n",
    "        df_ = df.loc[(df.Test != 'QC') & (df.Method == method)]\n",
    "        test = 'val'\n",
    "    else:\n",
    "        df_ = df.loc[(df.Test == 'QC') & (df.Method == method)]\n",
    "        test = 'qc'\n",
    "        \n",
    "    if flags == False:\n",
    "        # take just the data and the value columns\n",
    "        df_ = df_[['Resulted','Value']]\n",
    "    else:\n",
    "        df_ = df_[['Resulted','inOutQC']]\n",
    "        \n",
    "    # save to csv\n",
    "    df_.to_csv('tmp.csv'.format(test, method), index=False)\n",
    "\n",
    "    # read csv back in as a series\n",
    "    series = pd.Series.from_csv('tmp.csv'.format(test, method),header=0)\n",
    "    \n",
    "    return series\n",
    "\n",
    "\n",
    "def simple_moving_average(Window, ValTimeSeries):\n",
    "    \"\"\"\n",
    "    Create a simple moving averages TimeSeries\n",
    "    In: \n",
    "    -> Moving averages window\n",
    "    -> TimeSeries of values\n",
    "    Out: TimeSeries of MovingAverages for each of the supplied TimeStamps\n",
    "    \"\"\"\n",
    "    \n",
    "    ma_rs1_series = ValTimeSeries.copy(deep=True)\n",
    "    for i in range(len(ValTimeSeries)):\n",
    "        if i == 0:\n",
    "            continue\n",
    "        elif i < Window:\n",
    "            ma_rs1_series[i] = ValTimeSeries[:i].mean()\n",
    "        else:\n",
    "            start = i - Window\n",
    "            ma_rs1_series[i] = ValTimeSeries[start:i].mean()\n",
    "\n",
    "    return ma_rs1_series\n",
    "\n",
    "def moving_average_flags(MaTimeSeries, UTL, LTL):\n",
    "    \"\"\"\n",
    "    Create a time series of moving average flags:\n",
    "    1 = \"Out\"\n",
    "    0 = \"In\"\n",
    "    \n",
    "    In: TimeSeries of moving average values\n",
    "    Out: TimeSeries of 0 or 1 digits representing in and out respectively. \n",
    "    \"\"\"\n",
    "    \n",
    "    ma_flag_series = MaTimeSeries.copy(deep=True)\n",
    "    for i in range(len(MaTimeSeries)):\n",
    "\n",
    "        if MaTimeSeries[i] <= UTL:\n",
    "            # in = 0\n",
    "            ma_flag_series[i] = 0\n",
    "        else: \n",
    "            # out = 1\n",
    "            ma_flag_series[i] = 1\n",
    "    return ma_flag_series\n",
    "\n",
    "def moving_avg_performance_metrics(moving_avg_flag_series, qc_flag_series):\n",
    "    \"\"\"\n",
    "    Takes flags from Moving Averages and QC and compares to get performance metrics\n",
    "    \n",
    "    Input: MA and QC flag timeseries'\n",
    "    Output: Class object of: TP, FP, TN, FN, Precision, Recall\n",
    "    \"\"\"\n",
    "    metrics = MovingAvgPerformanceMetrics()\n",
    "    metrics.true_positive = 0\n",
    "    metrics.false_positive = 0\n",
    "    metrics.true_negative = 0\n",
    "    metrics.false_negative = 0\n",
    "\n",
    "    for i in range(len(moving_avg_flag_series)):\n",
    "\n",
    "        # Check MovingAverage \"In\" flags relative to QC\n",
    "        # i.e. True Negatives and False Negatives\n",
    "        if moving_avg_flag_series[i] == 0:\n",
    "            startQcLookup = moving_avg_flag_series.index[i]\n",
    "            for qc in qc_flag_series[startQcLookup:]:\n",
    "                if qc == 0:\n",
    "                    # 'True Negative'\n",
    "                    metrics.true_negative+=1\n",
    "                else:\n",
    "                    # ma_flag = 0 & qc_flag = 1\n",
    "                    # 'False Negative'\n",
    "                    metrics.false_negative+=1\n",
    "\n",
    "        # Check MovingAverage \"Out\" flags relative to QC\n",
    "        # i.e. True Positives and False Positives\n",
    "        else:\n",
    "            startQcLookup = moving_avg_flag_series.index[i]\n",
    "            for qc in qc_flag_series[startQcLookup:]:\n",
    "                if qc == 1:\n",
    "                    # 'True Positive'\n",
    "                    metrics.true_positive+=1\n",
    "                else:\n",
    "                    # ma_flag = 0 & qc_flag = 1\n",
    "                    # 'False Positive'\n",
    "                    metrics.false_positive+=1\n",
    "                break\n",
    "\n",
    "                \n",
    "    metrics.recall = (metrics.true_positive / (metrics.true_positive + metrics.false_negative)) * 100\n",
    "    metrics.precision = (metrics.true_positive / (metrics.true_positive + metrics.false_positive)) * 100\n",
    "\n",
    "    return metrics"
   ]
  },
  {
   "cell_type": "code",
   "execution_count": 3,
   "metadata": {
    "collapsed": true
   },
   "outputs": [],
   "source": [
    "WORK_DIR = 'C:\\\\Users\\\\thoma\\\\Box Sync\\\\00Professional\\\\01Research\\\\01_Projects\\\\moving_average\\\\'\n",
    "DATA_DIR = WORK_DIR + 'data\\\\'\n",
    "OUT_DIR = WORK_DIR + 'out\\\\'\n",
    "\n",
    "CSV_PATH = DATA_DIR + 'ChlorideRS1_RS2.csv'"
   ]
  },
  {
   "cell_type": "code",
   "execution_count": 4,
   "metadata": {
    "collapsed": false
   },
   "outputs": [],
   "source": [
    "parse_dates = ['Resulted', 'Verified']\n",
    "df = pd.read_csv(CSV_PATH, parse_dates=parse_dates)"
   ]
  },
  {
   "cell_type": "code",
   "execution_count": 5,
   "metadata": {
    "collapsed": false
   },
   "outputs": [],
   "source": [
    "df = df.sort_values(by='Verified')\n",
    "rs1_val_series = df_to_series(df,'RS1', qc=False, flags=False)\n",
    "rs1_qc_series = df_to_series(df,'RS1', qc=True, flags=False)\n",
    "low_rs1_qc_series = rs1_qc_series[rs1_qc_series <= 95]\n",
    "high_rs1_qc_series = rs1_qc_series[rs1_qc_series >= 95]\n",
    "qc_flags = df_to_series(df,'RS1', qc=True, flags=True)\n",
    "\n",
    "norm_rs1_val_series = rs1_val_series[(rs1_val_series <= URefL) & (rs1_val_series >= LRefL)]\n",
    "ma_rs1_series = simple_moving_average(WINDOW, norm_rs1_val_series)\n",
    "\n",
    "\n",
    "ma_flags = moving_average_flags(ma_rs1_series, 103.2, 99)"
   ]
  },
  {
   "cell_type": "code",
   "execution_count": 6,
   "metadata": {
    "collapsed": false
   },
   "outputs": [
    {
     "name": "stdout",
     "output_type": "stream",
     "text": [
      "{'false_positive': 8, 'recall': 0.35211267605633806, 'precision': 33.33333333333333, 'true_negative': 162918, 'true_positive': 4, 'false_negative': 1132}\n"
     ]
    }
   ],
   "source": [
    "met = moving_avg_performance_metrics(ma_flags, qc_flags)\n",
    "print met.__dict__"
   ]
  },
  {
   "cell_type": "code",
   "execution_count": null,
   "metadata": {
    "collapsed": true
   },
   "outputs": [],
   "source": []
  },
  {
   "cell_type": "code",
   "execution_count": null,
   "metadata": {
    "collapsed": true
   },
   "outputs": [],
   "source": []
  }
 ],
 "metadata": {
  "kernelspec": {
   "display_name": "Python 2",
   "language": "python",
   "name": "python2"
  },
  "language_info": {
   "codemirror_mode": {
    "name": "ipython",
    "version": 2
   },
   "file_extension": ".py",
   "mimetype": "text/x-python",
   "name": "python",
   "nbconvert_exporter": "python",
   "pygments_lexer": "ipython2",
   "version": "2.7.13"
  }
 },
 "nbformat": 4,
 "nbformat_minor": 2
}

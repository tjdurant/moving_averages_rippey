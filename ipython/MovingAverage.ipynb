{
 "cells": [
  {
   "cell_type": "code",
   "execution_count": 1,
   "metadata": {
    "collapsed": false
   },
   "outputs": [],
   "source": [
    "from __future__ import division\n",
    "\n",
    "import csv\n",
    "import json\n",
    "import sys\n",
    "import os\n",
    "import numpy as np\n",
    "import pandas as pd\n",
    "import datetime\n",
    "\n",
    "import matplotlib.mlab as mlab\n",
    "import matplotlib.pyplot as plt\n",
    "%matplotlib inline\n",
    "\n",
    "# Experiment parameters\n",
    "EXP_DATE = '04052017'\n",
    "MA_TYPE = 'SMA'\n",
    "COMPONENT = 'Chloride'\n",
    "METHOD = 'RS1'\n",
    "QC_RULES = ['13s','22s']\n",
    "\n",
    "URefL = 106\n",
    "LRefL = 99\n",
    "UTL = 104\n",
    "LTL =99\n",
    "WINDOW = 50 \n"
   ]
  },
  {
   "cell_type": "code",
   "execution_count": 2,
   "metadata": {
    "collapsed": false
   },
   "outputs": [],
   "source": [
    "def df_to_series(df, method, qc=False, flags=False):\n",
    "    \n",
    "    if qc == False:\n",
    "        # get the requested test and method and create a new DF\n",
    "        df_ = df.loc[(df.Test != 'QC YH CHEM PANEL 1') & (df.Method == method)]\n",
    "        test = 'val'\n",
    "    elif qc == True:\n",
    "        df_ = df.loc[(df.Test == 'QC YH CHEM PANEL 1') & (df.Method == method)]\n",
    "        test = 'qc'\n",
    "\n",
    "\n",
    "    else:\n",
    "        print \"Set qc flag: true if you want qc, false if you want result values\"\n",
    "        \n",
    "    if flags == False:\n",
    "        # take just the data and the value columns\n",
    "        df_ = df_[['Verified','Value']]\n",
    "    else:\n",
    "        df_ = df_[['Verified','Decision']]\n",
    "\n",
    "\n",
    "\n",
    "    try:\n",
    "        if len(df_) != 0:\n",
    "            # save to csv\n",
    "            df_.to_csv('tmp.csv'.format(test, method), index=False)\n",
    "\n",
    "            # read csv back in as a series\n",
    "            series = pd.Series.from_csv('tmp.csv'.format(test, method),header=0)\n",
    "        else:\n",
    "            print(test)\n",
    "            sys.exit(\"in df_to_series(): df_ was null\")\n",
    "            \n",
    "    except Exception, e:\n",
    "        print e \n",
    "        \n",
    "    return series\n",
    "\n",
    "\n",
    "def simple_moving_average(Window, ValTimeSeries):\n",
    "    \"\"\"\n",
    "    Create a simple moving averages TimeSeries\n",
    "    In: \n",
    "    -> Moving averages window\n",
    "    -> TimeSeries of values\n",
    "    Out: TimeSeries of MovingAverages for each of the supplied TimeStamps\n",
    "    \"\"\"\n",
    "    \n",
    "    ma_rs1_series = ValTimeSeries.copy(deep=True)\n",
    "    for i in range(len(ValTimeSeries)):\n",
    "        if i == 0:\n",
    "            continue\n",
    "        elif i < Window:\n",
    "            ma_rs1_series[i] = ValTimeSeries[:i].mean()\n",
    "        else:\n",
    "            start = i - Window\n",
    "            ma_rs1_series[i] = ValTimeSeries[start:i].mean()\n",
    "\n",
    "    return ma_rs1_series\n",
    "\n",
    "\n",
    "def moving_average_flags(MaTimeSeries, UTL, LTL):\n",
    "    \"\"\"\n",
    "    Create a time series of moving average flags:\n",
    "    1 = \"Out\"\n",
    "    0 = \"In\"\n",
    "    \n",
    "    In: TimeSeries of moving average values\n",
    "    Out: TimeSeries of 0 or 1 digits representing in and out respectively. \n",
    "    \"\"\"\n",
    "    \n",
    "    ma_flag_series = MaTimeSeries.copy(deep=True)\n",
    "    for i in range(len(MaTimeSeries)):\n",
    "\n",
    "        if LTL <= MaTimeSeries[i] <= UTL:\n",
    "            # in = 0\n",
    "            ma_flag_series[i] = 0\n",
    "        else: \n",
    "            # out = 1\n",
    "            ma_flag_series[i] = 1\n",
    "    return ma_flag_series\n",
    "\n",
    "\n",
    "def moving_avg_performance_metrics(ma_perf_model, moving_avg_flag_series, qc_flag_series):\n",
    "    \"\"\"\n",
    "    Takes flags from Moving Averages and QC and compares to get performance metrics\n",
    "    \n",
    "    Input: MA and QC flag timeseries'\n",
    "    Output: Class object of: TP, FP, TN, FN, Precision, Recall\n",
    "    \"\"\"\n",
    "\n",
    "    rep_perf_data = ReplicatePerformanceModel()\n",
    "    \n",
    "    # set replicate parameters\n",
    "    rep_perf_data.ma_window = WINDOW\n",
    "    rep_perf_data.ma_utl = UTL\n",
    "    rep_perf_data.ma_ltl = LTL\n",
    "    rep_perf_data.ma_url = URefL\n",
    "    rep_perf_data.ma_lrl = LRefL\n",
    "    rep_perf_data.ma_window = WINDOW\n",
    "    \n",
    "    # set counts to zero\n",
    "    rep_perf_data.true_positive = 0\n",
    "    rep_perf_data.false_positive = 0\n",
    "    rep_perf_data.true_negative = 0\n",
    "    rep_perf_data.false_negative = 0\n",
    "\n",
    "    # TODO: Need to seperate logic for high and low MA flags\n",
    "    # loop through all MA flags and compare to QC flags\n",
    "    for i in range(len(moving_avg_flag_series)):\n",
    "\n",
    "        # instantiate the time stamp of i'th MA_flag\n",
    "        rep_perf_data.ma_flag_ts = moving_avg_flag_series.index[i]\n",
    "        \n",
    "\n",
    "        # Check MovingAverage \"In\" flags relative to QC\n",
    "        # i.e. True Negatives and False Negatives\n",
    "        if moving_avg_flag_series[i] == 0:\n",
    "            \n",
    "            # instantiate startQcLookup variable with i'th MA_flag\n",
    "            startQcLookup = moving_avg_flag_series.index[i]\n",
    "            \n",
    "            for qc in qc_flag_series[startQcLookup:]:\n",
    "\n",
    "#                 print (startQcLookup, qc_flag_series.index[0])\n",
    "                \n",
    "                rep_perf_data.qc_flag_ts = qc_flag_series[startQcLookup:].index[0]\n",
    "\n",
    "                if qc == 0:\n",
    "                    # 'True Negative'\n",
    "                    rep_perf_data.true_negative+=1\n",
    "                else:\n",
    "                    # ma_flag = 0 & qc_flag = 1\n",
    "                    # 'False Negative'\n",
    "                    rep_perf_data.false_negative+=1\n",
    "\n",
    "        # Check MovingAverage \"Out\" flags relative to QC\n",
    "        # i.e. True Positives and False Positives\n",
    "        else:\n",
    "            startQcLookup = moving_avg_flag_series.index[i]\n",
    "            for qc in qc_flag_series[startQcLookup:]:\n",
    "                \n",
    "                # add QC_Flag TimeStamp to MovingAvgPerformanceMetrics\n",
    "                rep_perf_data.qc_flag_ts = qc_flag_series[startQcLookup:].index[0]\n",
    "                \n",
    "                if qc == 1:\n",
    "                    # 'True Positive'\n",
    "                    rep_perf_data.true_positive+=1\n",
    "                else:\n",
    "                    # ma_flag = 0 & qc_flag = 1\n",
    "                    # 'False Positive'\n",
    "                    rep_perf_data.false_positive+=1\n",
    "                break\n",
    "    \n",
    "    # Calculate difference in time between QC flag and MA flag\n",
    "    rep_perf_data.ma_qc_diff_secs = rep_perf_data.calculate_timestamp_diff()\n",
    "    rep_perf_data.recall = rep_perf_data.calculate_recall()\n",
    "    rep_perf_data.precision = rep_perf_data.calculate_precision()\n",
    "    rep_perf_data.number_of_ma_flags = rep_perf_data.calculate_number_of_flags()\n",
    "    \n",
    "    return rep_perf_data\n",
    "\n",
    "def set_ma_experiment(component, method, ma_type, qc_rules):\n",
    "    \n",
    "    ma = MovingAvgExperimentModel()\n",
    "    \n",
    "    ma.component = component\n",
    "    ma.component_method = method\n",
    "    ma.ma_type = ma_type\n",
    "    ma.qc_rules = qc_rules\n",
    "\n",
    "    \n",
    "    return ma"
   ]
  },
  {
   "cell_type": "code",
   "execution_count": 3,
   "metadata": {
    "collapsed": true
   },
   "outputs": [],
   "source": [
    "class MovingAvgExperimentModel:\n",
    "    \n",
    "    def __init__(self):\n",
    "\n",
    "        self.component = str()\n",
    "        self.component_method = str()\n",
    "        self.ma_type = str()\n",
    "        self.qc_rules = list()\n",
    "        self.replicate_data = []\n",
    "            \n",
    "    # dumps Result object in json\n",
    "    def tojson(self):\n",
    "        return json.dumps(self, default=lambda o: o.__dict__,\n",
    "                          sort_keys=False, indent=4)\n",
    "    \n",
    "class ReplicatePerformanceModel:\n",
    "\n",
    "    def __init__(self):\n",
    "\n",
    "        # Ma/QC Parameters\n",
    "        self.ma_utl = int()\n",
    "        self.ma_ltl = int()\n",
    "        self.ma_url = int()\n",
    "        self.ma_lrl = int()\n",
    "        self.ma_window = int()\n",
    "        self.number_of_ma_flags = int()\n",
    "\n",
    "        # Performance metrics\n",
    "        self.true_positive = int()\n",
    "        self.true_negative = int()\n",
    "        self.false_positive = int()\n",
    "        self.false_negative = int()\n",
    "        self.precision = float()\n",
    "        self.recall = float()\n",
    "\n",
    "        # datetime(\"%Y-%m-%d %H:%M:%S\")\n",
    "        # 2017-01-15 00:15:00\n",
    "        self.ma_flag_ts = str()\n",
    "        self.qc_flag_ts = str()\n",
    "        self.ma_qc_diff_secs = str()\n",
    "\n",
    "    def calculate_timestamp_diff(self):\n",
    "        return (self.qc_flag_ts - self.ma_flag_ts).seconds     \n",
    "\n",
    "    def calculate_recall(self):\n",
    "        return (self.true_positive / (self.true_positive + self.false_negative))\n",
    "\n",
    "    def calculate_precision(self):\n",
    "        if (self.true_positive + self.false_positive) == 0:\n",
    "            return 0\n",
    "        else:\n",
    "            return (self.true_positive / (self.true_positive + self.false_positive))\n",
    "    \n",
    "    def calculate_number_of_flags(self):\n",
    "        return (self.true_positive + self.false_positive)"
   ]
  },
  {
   "cell_type": "code",
   "execution_count": 4,
   "metadata": {
    "collapsed": true
   },
   "outputs": [],
   "source": [
    "WORK_DIR = 'C:\\\\Users\\\\thoma\\\\Box Sync\\\\00Professional\\\\01Research\\\\01_Projects\\\\moving_average\\\\'\n",
    "DATA_DIR = WORK_DIR + 'data\\\\'\n",
    "OUT_DIR = WORK_DIR + 'out\\\\'\n",
    "\n",
    "CSV_PATH = DATA_DIR + 'chloride_rs1_rs2_123016_012917.csv'"
   ]
  },
  {
   "cell_type": "code",
   "execution_count": 5,
   "metadata": {
    "collapsed": false
   },
   "outputs": [],
   "source": [
    "parse_dates = ['Received', 'Verified']\n",
    "df = pd.read_csv(CSV_PATH, parse_dates=parse_dates)"
   ]
  },
  {
   "cell_type": "code",
   "execution_count": 7,
   "metadata": {
    "collapsed": false,
    "scrolled": false
   },
   "outputs": [
    {
     "name": "stdout",
     "output_type": "stream",
     "text": [
      "7316\n",
      "4478\n",
      "358\n",
      "177\n",
      "181\n",
      "358\n"
     ]
    }
   ],
   "source": [
    "df = df.sort_values(by='Verified')\n",
    "\n",
    "\n",
    "# RESULT VALUES #######################################################\n",
    "\n",
    "# Time series of all result values for a given method\n",
    "rs1_val_series = df_to_series(df,'RS1', qc=False, flags=False)\n",
    "norm_rs1_val_series = rs1_val_series[(rs1_val_series <= URefL) & (rs1_val_series >= LRefL)]\n",
    "\n",
    "\n",
    "# QC VALUES ###########################################################\n",
    "\n",
    "# time series of all QC values for a given method \n",
    "rs1_qc_series = df_to_series(df,'RS1', qc=True, flags=False)\n",
    "\n",
    "# Time series of low QC values for a given method\n",
    "low_rs1_qc_series = rs1_qc_series[rs1_qc_series <= 95]\n",
    "\n",
    "# Time series of high QC values\n",
    "high_rs1_qc_series = rs1_qc_series[rs1_qc_series >= 95]\n",
    "\n",
    "# Time series of QC flags for a given method\n",
    "qc_flags = df_to_series(df,'RS1', qc=True, flags=True)\n",
    "qc_flags = qc_flags.replace(to_replace='Accept', value=0)\n",
    "qc_flags = qc_flags.replace(to_replace='Reject', value=1)\n",
    "\n",
    "print len(rs1_val_series)\n",
    "print len(norm_rs1_val_series)\n",
    "print len(rs1_qc_series)\n",
    "print len(low_rs1_qc_series)\n",
    "print len(high_rs1_qc_series)\n",
    "print len(qc_flags)"
   ]
  },
  {
   "cell_type": "code",
   "execution_count": 8,
   "metadata": {
    "collapsed": false
   },
   "outputs": [],
   "source": [
    "ExperimentObject = set_ma_experiment(ma_type=MA_TYPE,\n",
    "                                     component=COMPONENT,\n",
    "                                     method=METHOD,\n",
    "                                     qc_rules=QC_RULES)"
   ]
  },
  {
   "cell_type": "code",
   "execution_count": null,
   "metadata": {
    "collapsed": true
   },
   "outputs": [],
   "source": []
  },
  {
   "cell_type": "markdown",
   "metadata": {},
   "source": [
    "# Replicate experiments here:"
   ]
  },
  {
   "cell_type": "code",
   "execution_count": 9,
   "metadata": {
    "collapsed": false
   },
   "outputs": [
    {
     "data": {
      "text/plain": [
       "count    4478.000000\n",
       "mean      102.099821\n",
       "std         2.072097\n",
       "min        99.000000\n",
       "25%       100.000000\n",
       "50%       102.000000\n",
       "75%       104.000000\n",
       "max       106.000000\n",
       "Name: Value, dtype: float64"
      ]
     },
     "execution_count": 9,
     "metadata": {},
     "output_type": "execute_result"
    }
   ],
   "source": [
    "norm_rs1_val_series.describe()"
   ]
  },
  {
   "cell_type": "code",
   "execution_count": 26,
   "metadata": {
    "collapsed": true
   },
   "outputs": [],
   "source": [
    "URefL = 106\n",
    "LRefL = 99\n",
    "UTL = 102.9\n",
    "LTL =99\n",
    "WINDOW = 50 "
   ]
  },
  {
   "cell_type": "code",
   "execution_count": 27,
   "metadata": {
    "collapsed": false
   },
   "outputs": [
    {
     "data": {
      "text/plain": [
       "0.0    4347\n",
       "1.0     131\n",
       "Name: Value, dtype: int64"
      ]
     },
     "execution_count": 27,
     "metadata": {},
     "output_type": "execute_result"
    }
   ],
   "source": [
    "ma_rs1_series = simple_moving_average(WINDOW, norm_rs1_val_series)\n",
    "\n",
    "# Time series of MA flags for a given series, UTL, and LTL\n",
    "ma_flags = moving_average_flags(ma_rs1_series, UTL, LTL)\n",
    "\n",
    "ma_flags.value_counts()"
   ]
  },
  {
   "cell_type": "code",
   "execution_count": 28,
   "metadata": {
    "collapsed": false,
    "scrolled": true
   },
   "outputs": [
    {
     "name": "stdout",
     "output_type": "stream",
     "text": [
      "{'qc_rules': ['13s', '22s'], 'ma_type': 'SMA', 'component_method': 'RS1', 'component': 'Chloride', 'replicate_data': [<__main__.ReplicatePerformanceModel instance at 0x0000000007A63648>, <__main__.ReplicatePerformanceModel instance at 0x0000000007A633C8>, <__main__.ReplicatePerformanceModel instance at 0x0000000007A65F08>]}\n"
     ]
    }
   ],
   "source": [
    "# compare flags in moving averages with flags in QC\n",
    "ExperimentObject.replicate_data.append(\n",
    "                                        moving_avg_performance_metrics(ma_perf_model=ExperimentObject,\n",
    "                                                                       moving_avg_flag_series=ma_flags,\n",
    "                                                                       qc_flag_series=qc_flags))\n",
    "\n",
    "print ExperimentObject.__dict__"
   ]
  },
  {
   "cell_type": "code",
   "execution_count": 29,
   "metadata": {
    "collapsed": false
   },
   "outputs": [
    {
     "name": "stdout",
     "output_type": "stream",
     "text": [
      "{'false_positive': 0, 'number_of_ma_flags': 0, 'qc_flag_ts': Timestamp('2017-01-29 22:18:00'), 'ma_url': 106, 'recall': 0.0, 'ma_qc_diff_secs': 22620L, 'ma_utl': 104, 'true_negative': 699094, 'precision': 0, 'ma_lrl': 99, 'ma_window': 50, 'ma_ltl': 99, 'true_positive': 0, 'ma_flag_ts': Timestamp('2017-01-29 16:01:00'), 'false_negative': 27824}\n",
      "{'false_positive': 73, 'number_of_ma_flags': 73, 'qc_flag_ts': Timestamp('2017-01-29 22:18:00'), 'ma_url': 106, 'recall': 0.0, 'ma_qc_diff_secs': 22620L, 'ma_utl': 103, 'true_negative': 693379, 'precision': 0.0, 'ma_lrl': 99, 'ma_window': 50, 'ma_ltl': 99, 'true_positive': 0, 'ma_flag_ts': Timestamp('2017-01-29 16:01:00'), 'false_negative': 27801}\n",
      "{'false_positive': 131, 'number_of_ma_flags': 131, 'qc_flag_ts': Timestamp('2017-01-29 22:18:00'), 'ma_url': 106, 'recall': 0.0, 'ma_qc_diff_secs': 22620L, 'ma_utl': 102.9, 'true_negative': 688052, 'precision': 0.0, 'ma_lrl': 99, 'ma_window': 50, 'ma_ltl': 99, 'true_positive': 0, 'ma_flag_ts': Timestamp('2017-01-29 16:01:00'), 'false_negative': 27755}\n"
     ]
    }
   ],
   "source": [
    "for i in enumerate(ExperimentObject.replicate_data):\n",
    "    print i[1].__dict__"
   ]
  },
  {
   "cell_type": "code",
   "execution_count": 30,
   "metadata": {
    "collapsed": false
   },
   "outputs": [],
   "source": [
    "# Convert class object to json\n",
    "ExperimentObject_json = ExperimentObject.tojson()\n",
    "\n",
    "# Convert json object to dict\n",
    "ExperimentObject_dict = json.loads(ExperimentObject_json)\n",
    "\n",
    "# see contents of replicate_data dictionary\n",
    "# ExperimentObject_dict['replicate_data']"
   ]
  },
  {
   "cell_type": "code",
   "execution_count": 31,
   "metadata": {
    "collapsed": false
   },
   "outputs": [],
   "source": [
    "\n",
    "keys = ExperimentObject_dict['replicate_data'][0].keys()\n",
    "\n",
    "with open('output_{}.csv'.format(EXP_DATE), 'wb') as output_file:\n",
    "    dict_writer = csv.DictWriter(output_file, keys)\n",
    "    dict_writer.writeheader()\n",
    "    dict_writer.writerows(ExperimentObject_dict['replicate_data'])"
   ]
  },
  {
   "cell_type": "code",
   "execution_count": null,
   "metadata": {
    "collapsed": true
   },
   "outputs": [],
   "source": []
  },
  {
   "cell_type": "markdown",
   "metadata": {},
   "source": [
    "# Visualize Stuff"
   ]
  },
  {
   "cell_type": "code",
   "execution_count": 32,
   "metadata": {
    "collapsed": false
   },
   "outputs": [
    {
     "data": {
      "text/plain": [
       "count    4478.000000\n",
       "mean      102.099003\n",
       "std         0.420561\n",
       "min       100.960000\n",
       "25%       101.820000\n",
       "50%       102.140000\n",
       "75%       102.360000\n",
       "max       103.333333\n",
       "Name: Value, dtype: float64"
      ]
     },
     "execution_count": 32,
     "metadata": {},
     "output_type": "execute_result"
    }
   ],
   "source": [
    "ma_rs1_series.describe()"
   ]
  },
  {
   "cell_type": "code",
   "execution_count": 36,
   "metadata": {
    "collapsed": false
   },
   "outputs": [
    {
     "name": "stdout",
     "output_type": "stream",
     "text": [
      "0.0    4347\n",
      "1.0     131\n",
      "Name: Value, dtype: int64\n"
     ]
    }
   ],
   "source": [
    "# Time series of MA flags for a given series, UTL, and LTL\n",
    "ma_flags = moving_average_flags(ma_rs1_series, UTL, LTL)\n",
    "print ma_flags.value_counts()"
   ]
  },
  {
   "cell_type": "code",
   "execution_count": 37,
   "metadata": {
    "collapsed": false
   },
   "outputs": [
    {
     "data": {
      "text/plain": [
       "<matplotlib.axes._subplots.AxesSubplot at 0x7f90ba8>"
      ]
     },
     "execution_count": 37,
     "metadata": {},
     "output_type": "execute_result"
    },
    {
     "data": {
      "image/png": "[encoded data removed]",
      "text/plain": [
       "<matplotlib.figure.Figure at 0x8377a20>"
      ]
     },
     "metadata": {},
     "output_type": "display_data"
    }
   ],
   "source": [
    "qc_flags[:'2017-01-17 13:32:00'].plot()\n",
    "ma_rs1_series[:'2017-01-17 13:32:00'].plot()"
   ]
  },
  {
   "cell_type": "code",
   "execution_count": 38,
   "metadata": {
    "collapsed": false
   },
   "outputs": [
    {
     "data": {
      "text/plain": [
       "<matplotlib.axes._subplots.AxesSubplot at 0x92e4438>"
      ]
     },
     "execution_count": 38,
     "metadata": {},
     "output_type": "execute_result"
    },
    {
     "data": {
      "image/png": "[encoded data removed]",
      "text/plain": [
       "<matplotlib.figure.Figure at 0x9386748>"
      ]
     },
     "metadata": {},
     "output_type": "display_data"
    }
   ],
   "source": [
    "qc_flags[:'2017-01-17 13:32:00'].plot(color='red')\n",
    "ma_flags[:'2017-01-17 13:32:00'].plot(color='blue')"
   ]
  },
  {
   "cell_type": "code",
   "execution_count": null,
   "metadata": {
    "collapsed": true
   },
   "outputs": [],
   "source": []
  }
 ],
 "metadata": {
  "kernelspec": {
   "display_name": "Python 2",
   "language": "python",
   "name": "python2"
  },
  "language_info": {
   "codemirror_mode": {
    "name": "ipython",
    "version": 2
   },
   "file_extension": ".py",
   "mimetype": "text/x-python",
   "name": "python",
   "nbconvert_exporter": "python",
   "pygments_lexer": "ipython2",
   "version": "2.7.13"
  }
 },
 "nbformat": 4,
 "nbformat_minor": 2
}

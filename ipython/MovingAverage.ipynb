{
 "cells": [
  {
   "cell_type": "code",
   "execution_count": 1,
   "metadata": {
    "collapsed": false
   },
   "outputs": [],
   "source": [
    "from __future__ import division\n",
    "\n",
    "import sys\n",
    "import os\n",
    "import numpy as np\n",
    "import pandas as pd\n",
    "import datetime\n",
    "\n",
    "import matplotlib.mlab as mlab\n",
    "import matplotlib.pyplot as plt\n",
    "%matplotlib inline\n",
    "\n",
    "# Experiment parameters\n",
    "MA_TYPE = 'SMA'\n",
    "COMPONENT = 'Chloride'\n",
    "METHOD = 'RS1'\n",
    "QC_RULES = ['13s','22s']\n",
    "\n",
    "URefL = 106\n",
    "LRefL = 99\n",
    "UTL = 104\n",
    "LTL =99\n",
    "WINDOW = 50 \n"
   ]
  },
  {
   "cell_type": "code",
   "execution_count": 40,
   "metadata": {
    "collapsed": false
   },
   "outputs": [],
   "source": [
    "def df_to_series(df, method, qc=False, flags=False):\n",
    "    \n",
    "    if qc == False:\n",
    "        # get the requested test and method and create a new DF\n",
    "        df_ = df.loc[(df.Test != 'QC YH CHEM PANEL 1') & (df.Method == method)]\n",
    "        test = 'val'\n",
    "    elif qc == True:\n",
    "        df_ = df.loc[(df.Test == 'QC YH CHEM PANEL 1') & (df.Method == method)]\n",
    "        test = 'qc'\n",
    "\n",
    "\n",
    "    else:\n",
    "        print \"Set qc flag: true if you want qc, false if you want result values\"\n",
    "        \n",
    "    if flags == False:\n",
    "        # take just the data and the value columns\n",
    "        df_ = df_[['Verified','Value']]\n",
    "    else:\n",
    "        df_ = df_[['Verified','Decision']]\n",
    "\n",
    "\n",
    "\n",
    "    try:\n",
    "        if len(df_) != 0:\n",
    "            # save to csv\n",
    "            df_.to_csv('tmp.csv'.format(test, method), index=False)\n",
    "\n",
    "            # read csv back in as a series\n",
    "            series = pd.Series.from_csv('tmp.csv'.format(test, method),header=0)\n",
    "        else:\n",
    "            print(test)\n",
    "            sys.exit(\"in df_to_series(): df_ was null\")\n",
    "            \n",
    "    except Exception, e:\n",
    "        print e \n",
    "        \n",
    "    return series\n",
    "\n",
    "\n",
    "def simple_moving_average(Window, ValTimeSeries):\n",
    "    \"\"\"\n",
    "    Create a simple moving averages TimeSeries\n",
    "    In: \n",
    "    -> Moving averages window\n",
    "    -> TimeSeries of values\n",
    "    Out: TimeSeries of MovingAverages for each of the supplied TimeStamps\n",
    "    \"\"\"\n",
    "    \n",
    "    ma_rs1_series = ValTimeSeries.copy(deep=True)\n",
    "    for i in range(len(ValTimeSeries)):\n",
    "        if i == 0:\n",
    "            continue\n",
    "        elif i < Window:\n",
    "            ma_rs1_series[i] = ValTimeSeries[:i].mean()\n",
    "        else:\n",
    "            start = i - Window\n",
    "            ma_rs1_series[i] = ValTimeSeries[start:i].mean()\n",
    "\n",
    "    return ma_rs1_series\n",
    "\n",
    "\n",
    "def moving_average_flags(MaTimeSeries, UTL, LTL):\n",
    "    \"\"\"\n",
    "    Create a time series of moving average flags:\n",
    "    1 = \"Out\"\n",
    "    0 = \"In\"\n",
    "    \n",
    "    In: TimeSeries of moving average values\n",
    "    Out: TimeSeries of 0 or 1 digits representing in and out respectively. \n",
    "    \"\"\"\n",
    "    \n",
    "    ma_flag_series = MaTimeSeries.copy(deep=True)\n",
    "    for i in range(len(MaTimeSeries)):\n",
    "\n",
    "        if LTL <= MaTimeSeries[i] <= UTL:\n",
    "            # in = 0\n",
    "            ma_flag_series[i] = 0\n",
    "        else: \n",
    "            # out = 1\n",
    "            ma_flag_series[i] = 1\n",
    "    return ma_flag_series\n",
    "\n",
    "\n",
    "def moving_avg_performance_metrics(ma_perf_model, moving_avg_flag_series, qc_flag_series):\n",
    "    \"\"\"\n",
    "    Takes flags from Moving Averages and QC and compares to get performance metrics\n",
    "    \n",
    "    Input: MA and QC flag timeseries'\n",
    "    Output: Class object of: TP, FP, TN, FN, Precision, Recall\n",
    "    \"\"\"\n",
    "\n",
    "    raw_perf_data = RawPerformanceModel()\n",
    "    raw_perf_data.true_positive = 0\n",
    "    raw_perf_data.false_positive = 0\n",
    "    raw_perf_data.true_negative = 0\n",
    "    raw_perf_data.false_negative = 0\n",
    "\n",
    "    # TODO: Need to seperate logic for high and low MA flags\n",
    "    # loop through all MA flags and compare to QC flags\n",
    "    for i in range(len(moving_avg_flag_series)):\n",
    "\n",
    "        # instantiate the time stamp of i'th MA_flag\n",
    "        raw_perf_data.ma_flag_ts = moving_avg_flag_series.index[i]\n",
    "        \n",
    "\n",
    "        # Check MovingAverage \"In\" flags relative to QC\n",
    "        # i.e. True Negatives and False Negatives\n",
    "        if moving_avg_flag_series[i] == 0:\n",
    "            \n",
    "            # instantiate startQcLookup variable with i'th MA_flag\n",
    "            startQcLookup = moving_avg_flag_series.index[i]\n",
    "            \n",
    "            for qc in qc_flag_series[startQcLookup:]:\n",
    "\n",
    "                print (startQcLookup, qc_flag_series.index[0])\n",
    "                \n",
    "                raw_perf_data.qc_flag_ts = qc_flag_series[startQcLookup:].index[0]\n",
    "\n",
    "                if qc == 0:\n",
    "                    # 'True Negative'\n",
    "                    raw_perf_data.true_negative+=1\n",
    "                else:\n",
    "                    # ma_flag = 0 & qc_flag = 1\n",
    "                    # 'False Negative'\n",
    "                    raw_perf_data.false_negative+=1\n",
    "\n",
    "        # Check MovingAverage \"Out\" flags relative to QC\n",
    "        # i.e. True Positives and False Positives\n",
    "        else:\n",
    "            startQcLookup = moving_avg_flag_series.index[i]\n",
    "            for qc in qc_flag_series[startQcLookup:]:\n",
    "                \n",
    "                # add QC_Flag TimeStamp to MovingAvgPerformanceMetrics\n",
    "                raw_perf_data.qc_flag_ts = qc_flag_series[startQcLookup:].index[0]\n",
    "                \n",
    "                if qc == 1:\n",
    "                    # 'True Positive'\n",
    "                    raw_perf_data.true_positive+=1\n",
    "                else:\n",
    "                    # ma_flag = 0 & qc_flag = 1\n",
    "                    # 'False Positive'\n",
    "                    raw_perf_data.false_positive+=1\n",
    "                break\n",
    "    \n",
    "    print (raw_perf_data.ma_flag_ts, raw_perf_data.qc_flag_ts)\n",
    "    # Calculate difference in time between QC flag and MA flag\n",
    "    raw_perf_data.ma_qc_diff_secs = raw_perf_data.calculate_timestamp_diff()\n",
    "    raw_perf_data.recall = raw_perf_data.calculate_recall()\n",
    "    raw_perf_data.precision = raw_perf_data.calculate_precision()\n",
    "    \n",
    "    return raw_perf_data\n",
    "\n",
    "def set_ma_experiment(ma_type, component, method, ma_window, qc_rules):\n",
    "    \n",
    "    ma = MovingAvgPerformanceModel()\n",
    "    \n",
    "    ma.component = component\n",
    "    ma.chem_method = method\n",
    "    ma.ma_type = ma_type\n",
    "    ma.qc_rules = qc_rules\n",
    "    \n",
    "    return ma"
   ]
  },
  {
   "cell_type": "code",
   "execution_count": 3,
   "metadata": {
    "collapsed": true
   },
   "outputs": [],
   "source": [
    "class MovingAvgPerformanceModel:\n",
    "    \n",
    "    def __init__(self):\n",
    "\n",
    "        self.component = str()\n",
    "        self.chem_method = str()\n",
    "        self.ma_type = str()\n",
    "        self.qc_rules = list()\n",
    "        self.exp_data = []\n",
    "            \n",
    "    # dumps Result object in json\n",
    "    def tojson(self):\n",
    "        return json.dumps(self, default=lambda o: o.__dict__,\n",
    "                          sort_keys=False, indent=4)\n",
    "    \n",
    "class RawPerformanceModel:\n",
    "\n",
    "    def __init__(self):\n",
    "\n",
    "        # Ma/QC Parameters\n",
    "        self.ma_utl = int()\n",
    "        self.ma_ltl = int()\n",
    "        self.ma_url = int()\n",
    "        self.ma_lrl = int()\n",
    "        self.ma_window = int()\n",
    "\n",
    "        # Performance metrics\n",
    "        self.true_positive = int()\n",
    "        self.true_negative = int()\n",
    "        self.false_positive = int()\n",
    "        self.false_negative = int()\n",
    "        self.precision = float()\n",
    "        self.recall = float()\n",
    "\n",
    "        # datetime(\"%Y-%m-%d %H:%M:%S\")\n",
    "        # 2017-01-15 00:15:00\n",
    "        self.ma_flag_ts = str()\n",
    "        self.qc_flag_ts = str()\n",
    "        self.ma_qc_diff_secs = str()\n",
    "\n",
    "    def calculate_timestamp_diff(self):\n",
    "        return (self.qc_flag_ts - self.ma_flag_ts).seconds     \n",
    "\n",
    "    def calculate_recall(self):\n",
    "        return (self.true_positive / (self.true_positive + self.false_negative))\n",
    "\n",
    "    def calculate_precision(self):\n",
    "        return (self.true_positive / (self.true_positive + self.false_positive))\n",
    "    "
   ]
  },
  {
   "cell_type": "code",
   "execution_count": 4,
   "metadata": {
    "collapsed": true
   },
   "outputs": [],
   "source": [
    "WORK_DIR = 'C:\\\\Users\\\\thoma\\\\Box Sync\\\\00Professional\\\\01Research\\\\01_Projects\\\\moving_average\\\\'\n",
    "DATA_DIR = WORK_DIR + 'data\\\\'\n",
    "OUT_DIR = WORK_DIR + 'out\\\\'\n",
    "\n",
    "CSV_PATH = DATA_DIR + 'chloride_rs1_rs2_123016_012917.csv'"
   ]
  },
  {
   "cell_type": "code",
   "execution_count": 5,
   "metadata": {
    "collapsed": false
   },
   "outputs": [],
   "source": [
    "parse_dates = ['Received', 'Verified']\n",
    "df = pd.read_csv(CSV_PATH, parse_dates=parse_dates)"
   ]
  },
  {
   "cell_type": "code",
   "execution_count": 26,
   "metadata": {
    "collapsed": false,
    "scrolled": false
   },
   "outputs": [
    {
     "name": "stdout",
     "output_type": "stream",
     "text": [
      "7316\n",
      "4478\n",
      "4478\n",
      "4478\n",
      "358\n",
      "177\n",
      "181\n",
      "358\n"
     ]
    }
   ],
   "source": [
    "df = df.sort_values(by='Verified')\n",
    "\n",
    "\n",
    "# RESULT VALUES #######################################################\n",
    "\n",
    "# Time series of all result values for a given method\n",
    "rs1_val_series = df_to_series(df,'RS1', qc=False, flags=False)\n",
    "norm_rs1_val_series = rs1_val_series[(rs1_val_series <= URefL) & (rs1_val_series >= LRefL)]\n",
    "ma_rs1_series = simple_moving_average(WINDOW, norm_rs1_val_series)\n",
    "\n",
    "# Time series of MA flags for a given series, UTL, and LTL\n",
    "ma_flags = moving_average_flags(ma_rs1_series, 102, 100)\n",
    "\n",
    "# QC VALUES ###########################################################\n",
    "\n",
    "# time series of all QC values for a given method \n",
    "rs1_qc_series = df_to_series(df,'RS1', qc=True, flags=False)\n",
    "\n",
    "# Time series of low QC values for a given method\n",
    "low_rs1_qc_series = rs1_qc_series[rs1_qc_series <= 95]\n",
    "\n",
    "# Time series of high QC values\n",
    "high_rs1_qc_series = rs1_qc_series[rs1_qc_series >= 95]\n",
    "\n",
    "# Time series of QC flags for a given method\n",
    "qc_flags = df_to_series(df,'RS1', qc=True, flags=True)\n",
    "qc_flags = qc_flags.replace(to_replace='Accept', value=0)\n",
    "qc_flags = qc_flags.replace(to_replace='Reject', value=1)\n",
    "\n",
    "print len(rs1_val_series)\n",
    "print len(norm_rs1_val_series)\n",
    "print len(ma_rs1_series)\n",
    "print len(ma_flags)\n",
    "print len(rs1_qc_series)\n",
    "print len(low_rs1_qc_series)\n",
    "print len(high_rs1_qc_series)\n",
    "print len(qc_flags)"
   ]
  },
  {
   "cell_type": "code",
   "execution_count": null,
   "metadata": {
    "collapsed": false
   },
   "outputs": [],
   "source": [
    "ExperimentObject = set_ma_experiment(ma_type=MA_TYPE,\n",
    "                                     component=COMPONENT,\n",
    "                                     method=METHOD,\n",
    "                                     ma_window=WINDOW,\n",
    "                                     qc_rules=QC_RULES)"
   ]
  },
  {
   "cell_type": "code",
   "execution_count": null,
   "metadata": {
    "collapsed": false,
    "scrolled": true
   },
   "outputs": [],
   "source": [
    "# compare flags in moving averages with flags in QC\n",
    "ExperimentObject.exp_data.append(moving_avg_performance_metrics(ma_perf_model=ExperimentObject,\n",
    "                                                                moving_avg_flag_series=ma_flags,\n",
    "                                                                qc_flag_series=qc_flags))\n",
    "print ExperimentObject.__dict__"
   ]
  },
  {
   "cell_type": "code",
   "execution_count": null,
   "metadata": {
    "collapsed": false
   },
   "outputs": [],
   "source": [
    "for i in enumerate(ExperimentObject.exp_data):\n",
    "    print i[1].__dict__"
   ]
  },
  {
   "cell_type": "code",
   "execution_count": null,
   "metadata": {
    "collapsed": false
   },
   "outputs": [],
   "source": [
    "import json\n",
    "ExperimentObject_json = ExperimentObject.tojson()\n",
    "ExperimentObject_dict = json.loads(ExperimentObject_json)"
   ]
  },
  {
   "cell_type": "code",
   "execution_count": null,
   "metadata": {
    "collapsed": false
   },
   "outputs": [],
   "source": [
    "ExperimentObject_dict['exp_data']"
   ]
  },
  {
   "cell_type": "code",
   "execution_count": null,
   "metadata": {
    "collapsed": true
   },
   "outputs": [],
   "source": [
    "csv.DictWriter?"
   ]
  },
  {
   "cell_type": "code",
   "execution_count": null,
   "metadata": {
    "collapsed": false
   },
   "outputs": [],
   "source": [
    "import csv\n",
    "f = open('output.csv','wb')\n",
    "w = csv.DictWriter(f)\n",
    "w.writerows(ExperimentObject_dict['exp_data'])\n"
   ]
  },
  {
   "cell_type": "code",
   "execution_count": null,
   "metadata": {
    "collapsed": true
   },
   "outputs": [],
   "source": []
  },
  {
   "cell_type": "markdown",
   "metadata": {},
   "source": [
    "# Visualize Stuff"
   ]
  },
  {
   "cell_type": "code",
   "execution_count": 47,
   "metadata": {
    "collapsed": false
   },
   "outputs": [
    {
     "data": {
      "text/plain": [
       "count    4478.000000\n",
       "mean      102.099003\n",
       "std         0.420282\n",
       "min       100.960000\n",
       "25%       101.820000\n",
       "50%       102.140000\n",
       "75%       102.360000\n",
       "max       103.333333\n",
       "Name: Value, dtype: float64"
      ]
     },
     "execution_count": 47,
     "metadata": {},
     "output_type": "execute_result"
    }
   ],
   "source": [
    "ma_rs1_series.describe()"
   ]
  },
  {
   "cell_type": "code",
   "execution_count": 50,
   "metadata": {
    "collapsed": false
   },
   "outputs": [
    {
     "name": "stdout",
     "output_type": "stream",
     "text": [
      "0.0    4477\n",
      "1.0       1\n",
      "Name: Value, dtype: int64\n"
     ]
    }
   ],
   "source": [
    "# Time series of MA flags for a given series, UTL, and LTL\n",
    "ma_flags = moving_average_flags(ma_rs1_series, 103.3, 100.9)\n",
    "print ma_flags.value_counts()"
   ]
  },
  {
   "cell_type": "code",
   "execution_count": 52,
   "metadata": {
    "collapsed": false
   },
   "outputs": [
    {
     "data": {
      "text/plain": [
       "<matplotlib.axes._subplots.AxesSubplot at 0xbd91828>"
      ]
     },
     "execution_count": 52,
     "metadata": {},
     "output_type": "execute_result"
    },
    {
     "data": {
      "image/png": "[encoded data removed]",
      "text/plain": [
       "<matplotlib.figure.Figure at 0xbc78080>"
      ]
     },
     "metadata": {},
     "output_type": "display_data"
    }
   ],
   "source": [
    "ma_rs1_series[:'2017-01-17 13:32:00'].plot()"
   ]
  },
  {
   "cell_type": "code",
   "execution_count": 51,
   "metadata": {
    "collapsed": false
   },
   "outputs": [
    {
     "data": {
      "text/plain": [
       "<matplotlib.axes._subplots.AxesSubplot at 0xb277a90>"
      ]
     },
     "execution_count": 51,
     "metadata": {},
     "output_type": "execute_result"
    },
    {
     "data": {
      "image/png": "[encoded data removed]",
      "text/plain": [
       "<matplotlib.figure.Figure at 0xba8a320>"
      ]
     },
     "metadata": {},
     "output_type": "display_data"
    }
   ],
   "source": [
    "qc_flags[:'2017-01-17 13:32:00'].plot(color='red')\n",
    "ma_flags[:'2017-01-17 13:32:00'].plot(color='blue')"
   ]
  },
  {
   "cell_type": "code",
   "execution_count": null,
   "metadata": {
    "collapsed": true
   },
   "outputs": [],
   "source": []
  }
 ],
 "metadata": {
  "kernelspec": {
   "display_name": "Python 2",
   "language": "python",
   "name": "python2"
  },
  "language_info": {
   "codemirror_mode": {
    "name": "ipython",
    "version": 2
   },
   "file_extension": ".py",
   "mimetype": "text/x-python",
   "name": "python",
   "nbconvert_exporter": "python",
   "pygments_lexer": "ipython2",
   "version": "2.7.13"
  }
 },
 "nbformat": 4,
 "nbformat_minor": 2
}
